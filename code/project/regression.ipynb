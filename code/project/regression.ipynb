{
 "cells": [
  {
   "attachments": {},
   "cell_type": "markdown",
   "metadata": {},
   "source": [
    "# Multiple Linear Regression with Python Scikit Learn\n",
    "### Predict glucose levels (1 hour in the future) from 11 hours of data\n",
    "### Parameters that affect glucose levels:\n",
    "\n",
    "#### 1. BMI\n",
    "#### 2. HbA1c\n",
    "#### 3. "
   ]
  },
  {
   "cell_type": "code",
   "execution_count": null,
   "metadata": {},
   "outputs": [],
   "source": []
  },
  {
   "cell_type": "code",
   "execution_count": null,
   "metadata": {},
   "outputs": [],
   "source": [
    "# imports for multiple linear regression model\n",
    "import pandas as pd\n",
    "import numpy as np\n",
    "import matplotlib.pyplot as plt\n",
    "import seaborn as sns\n",
    "import os\n",
    "import sklearn\n",
    "\n",
    "from sklearn import linear_model\n",
    "from sklearn.model_selection import train_test_split\n",
    "from sklearn import metrics\n",
    "from sklearn.metrics import mean_squared_error\n",
    "from sklearn.metrics import r2_score\n",
    "from sklearn.metrics import mean_absolute_error\n",
    "\n",
    "from sklearn.linear_model import LinearRegression\n",
    "from sklearn.metrics import mean_squared_error, mean_absolute_error, r2_score\n"
   ]
  },
  {
   "cell_type": "code",
   "execution_count": null,
   "metadata": {},
   "outputs": [],
   "source": [
    "\n",
    "# Load and preprocess the data\n",
    "# Assuming your data is in a pandas DataFrame named 'data' with values column 'value'\n",
    "data = pd.read_csv('your_data.csv')\n",
    "\n",
    "# Split the data into train and test sets\n",
    "train_ratio = 0.8\n",
    "train_size = int(train_ratio * len(data))\n",
    "train_data = data.iloc[:train_size]\n",
    "test_data = data.iloc[train_size:]\n",
    "\n",
    "# Define the lag order and shift size\n",
    "lag_order = 12  # 11-hour readings with 5-minute intervals\n",
    "shift_size = 1  # Shift by 5 minutes\n",
    "\n",
    "# Create lagged features\n",
    "X_train = []\n",
    "y_train = []\n",
    "for i in range(lag_order, len(train_data) - shift_size):\n",
    "    X_train.append(train_data['value'].values[i-lag_order:i])\n",
    "    y_train.append(train_data['value'].values[i+shift_size])\n",
    "X_train = np.array(X_train)\n",
    "y_train = np.array(y_train)\n",
    "\n",
    "# Train the linear autoregressive model\n",
    "model = LinearRegression()\n",
    "model.fit(X_train, y_train)\n",
    "\n",
    "# Evaluate the model on the test set\n",
    "X_test = []\n",
    "y_test = []\n",
    "for i in range(lag_order, len(test_data) - shift_size):\n",
    "    X_test.append(test_data['value'].values[i-lag_order:i])\n",
    "    y_test.append(test_data['value'].values[i+shift_size])\n",
    "X_test = np.array(X_test)\n",
    "y_test = np.array(y_test)\n",
    "\n",
    "y_pred = model.predict(X_test)\n",
    "\n",
    "# Evaluation metrics\n",
    "mse = mean_squared_error(y_test, y_pred)\n",
    "mae = mean_absolute_error(y_test, y_pred)\n",
    "r2 = r2_score(y_test, y_pred)\n",
    "\n",
    "print(\"Mean Squared Error (MSE):\", mse)\n",
    "print(\"Mean Absolute Error (MAE):\", mae)\n",
    "print(\"Coefficient of Determination (R-squared):\", r2)\n",
    "\n",
    "# Forecast future values\n",
    "last_observation = data['value'].values[-lag_order:]  # Most recent lagged features\n",
    "future_steps = 12  # Number of future readings to forecast\n",
    "\n",
    "future_features = []\n",
    "for _ in range(future_steps):\n",
    "    future_features.append(last_observation)\n",
    "    last_observation = np.roll(last_observation, -1)\n",
    "    last_observation[-1] = model.predict([last_observation])[0]\n",
    "\n",
    "future_features = np.array(future_features)\n",
    "\n",
    "# Print the forecasted values\n",
    "print(\"Forecasted values:\")\n",
    "print(future_features)\n"
   ]
  },
  {
   "attachments": {},
   "cell_type": "markdown",
   "metadata": {},
   "source": [
    "## Hyperparameter tuning"
   ]
  },
  {
   "cell_type": "code",
   "execution_count": null,
   "metadata": {},
   "outputs": [],
   "source": []
  }
 ],
 "metadata": {
  "kernelspec": {
   "display_name": ".venv",
   "language": "python",
   "name": "python3"
  },
  "language_info": {
   "name": "python",
   "version": "3.9.13"
  },
  "orig_nbformat": 4
 },
 "nbformat": 4,
 "nbformat_minor": 2
}
