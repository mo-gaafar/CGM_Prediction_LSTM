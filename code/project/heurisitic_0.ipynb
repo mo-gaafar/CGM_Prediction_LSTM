{
 "cells": [
  {
   "cell_type": "code",
   "execution_count": 29,
   "metadata": {
    "collapsed": false,
    "pycharm": {
     "name": "#%%\n"
    }
   },
   "outputs": [],
   "source": [
    "import numpy as np\n",
    "# import matplotlib as mpl\n",
    "import matplotlib.pyplot as plt\n",
    "import IPython\n",
    "from IPython.display import display\n",
    "import math\n",
    "\n",
    "import torch\n",
    "import torch.nn as nn\n",
    "import torch.nn.functional as F\n",
    "import torch.optim as optim\n",
    "from torch.utils.data import Dataset\n",
    "from torch.utils.data import DataLoader\n",
    "\n",
    "import time\n",
    "\n",
    "# import models\n",
    "# import train_lstm"
   ]
  },
  {
   "cell_type": "code",
   "execution_count": 30,
   "metadata": {
    "collapsed": false,
    "pycharm": {
     "name": "#%%\n"
    }
   },
   "outputs": [],
   "source": [
    "# import importlib\n",
    "# importlib.reload(train_lstm)\n",
    "# importlib.reload(models)"
   ]
  },
  {
   "cell_type": "markdown",
   "metadata": {
    "collapsed": false
   },
   "source": [
    "## Define Model"
   ]
  },
  {
   "cell_type": "code",
   "execution_count": 31,
   "metadata": {
    "collapsed": false,
    "pycharm": {
     "name": "#%%\n"
    }
   },
   "outputs": [],
   "source": [
    "seed = 1289719\n",
    "series_min_len = 144 #12hrs\n",
    "pred_horizon = 12 # 1hr\n",
    "input_size = series_min_len - pred_horizon\n",
    "output_size = pred_horizon\n",
    "import math\n",
    "dataset_path = '../timeseries_0-patients_step-1_len-x.pkl'\n",
    "\n",
    "# group_id = 2\n",
    "# dataset_path = \"timeseries_\"+str(group_id)+\"-patients_step-1.pkl\""
   ]
  },
  {
   "cell_type": "code",
   "execution_count": 32,
   "metadata": {
    "collapsed": false,
    "pycharm": {
     "name": "#%%\n"
    }
   },
   "outputs": [
    {
     "name": "stdout",
     "output_type": "stream",
     "text": [
      "No GPU available, training on CPU; consider making n_epochs very small.\n"
     ]
    }
   ],
   "source": [
    "epochs = 20\n",
    "batch_size = 128\n",
    "learning_rate = 0.001\n",
    "save_every = 1\n",
    "test_every = save_every\n",
    "\n",
    "epoch_start = 0\n",
    "\n",
    "device = torch.device('cuda' if torch.cuda.is_available() else 'cpu')\n",
    "if torch.cuda.is_available():\n",
    "    print('Training on GPU!')\n",
    "else:\n",
    "    print('No GPU available, training on CPU; consider making n_epochs very small.')\n",
    "\n",
    "# lstm_trainer = train_lstm.LSTM_Trainer(seed, device)\n",
    "\n",
    "# heurisitic = models.Heuristic(1, 1).to(device)\n",
    "loss_func = nn.MSELoss()"
   ]
  },
  {
   "cell_type": "markdown",
   "metadata": {
    "collapsed": false
   },
   "source": [
    "## Copy Last"
   ]
  },
  {
   "cell_type": "code",
   "execution_count": 33,
   "metadata": {
    "collapsed": false,
    "pycharm": {
     "name": "#%%\n"
    }
   },
   "outputs": [],
   "source": [
    "# #load test set\n",
    "# lstm_trainer.load_test(dataset_path, 1, input_size, pred_horizon, 0)\n",
    "# data_loader = lstm_trainer.test_loader"
   ]
  },
  {
   "cell_type": "code",
   "execution_count": 34,
   "metadata": {
    "collapsed": false,
    "pycharm": {
     "name": "#%%\n"
    }
   },
   "outputs": [],
   "source": [
    "# num_batches = len(data_loader)\n",
    "# print(num_batches)\n",
    "# total_loss = 0\n",
    "\n",
    "\n",
    "# start = time.time()\n",
    "# esod = 0\n",
    "# for X, y in data_loader:\n",
    "#     last = X[0][-1]\n",
    "#     prediction_full = last.repeat(1,pred_horizon)\n",
    "#     #MSE\n",
    "#     total_loss += loss_func(prediction_full, y).item()\n",
    "\n",
    "#     #ESOD\n",
    "#     # esod_pred = 0\n",
    "#     # esod_y = 0\n",
    "#     # preds = prediction_full.cpu().detach().numpy()[0]\n",
    "#     # y_t = y.cpu().detach().numpy()[0]\n",
    "#     # for j in range(2, len(preds)):\n",
    "#     #     esod_pred += math.pow((preds[j] - 2*preds[j-1] + preds[j-2]), 2)\n",
    "#     #     esod_y += math.pow((y_t[j] - 2*y_t[j-1] + y_t[j-2]), 2)\n",
    "#     # if (esod_y != 0):\n",
    "#     #     esod += esod_pred / esod_y\n",
    "#     # break\n",
    "\n",
    "# end = time.time()\n",
    "\n",
    "# avg_loss = total_loss / num_batches\n",
    "# print(f\"Test loss: {avg_loss}\")\n",
    "# print(\"avg ESOD:\", esod/num_batches)\n",
    "\n",
    "# print(\"Time: \", end-start)\n"
   ]
  },
  {
   "cell_type": "markdown",
   "metadata": {
    "collapsed": false
   },
   "source": [
    "## Linear Regression"
   ]
  },
  {
   "cell_type": "code",
   "execution_count": 35,
   "metadata": {
    "collapsed": false,
    "pycharm": {
     "name": "#%%\n"
    }
   },
   "outputs": [],
   "source": [
    "import pickle\n",
    "[X_train, X_test, y_train, y_test] = pickle.load(open(dataset_path, 'rb'))"
   ]
  },
  {
   "attachments": {},
   "cell_type": "markdown",
   "metadata": {},
   "source": [
    "### Hyperparameter Tuning\n",
    "* learning rate\n",
    "* number of iterations\n",
    "* last n of samples to use for prediction\n",
    "* order of polynomial (1-5)"
   ]
  },
  {
   "cell_type": "code",
   "execution_count": 53,
   "metadata": {
    "collapsed": false,
    "pycharm": {
     "name": "#%%\n"
    }
   },
   "outputs": [
    {
     "name": "stdout",
     "output_type": "stream",
     "text": [
      "52329\n",
      "Loss:  1782778.6450783014\n",
      "Loss:  15217933.931875706\n",
      "Loss:  606714016.1204767\n",
      "Loss:  87985938120.84615\n",
      "Loss:  2652093827593.057\n",
      "Loss:  184693853081555.47\n",
      "Loss:  2037466.7599680424\n",
      "Loss:  7744267.622604489\n",
      "Loss:  68956195.84585094\n",
      "Loss:  948687720.468853\n",
      "Loss:  28893472952.84382\n",
      "Loss:  899872243519.6237\n",
      "Loss:  2354296.4026720524\n",
      "Loss:  6142038.504704714\n",
      "Loss:  35232292.61674237\n",
      "Loss:  253994679.0650344\n",
      "Loss:  2744416529.455143\n",
      "Loss:  40741268219.016235\n",
      "Loss:  2694981.563713491\n",
      "Loss:  5518923.653866291\n",
      "Loss:  21838617.95465851\n",
      "Loss:  136311362.0193615\n",
      "Loss:  848705996.7437763\n",
      "Loss:  8024036031.508118\n",
      "Loss:  2951525.814533353\n",
      "Loss:  5022142.880075812\n",
      "Loss:  17953062.41411662\n",
      "Loss:  76083686.01341534\n",
      "Loss:  465277144.72181034\n",
      "Loss:  2512277019.796875\n",
      "Loss:  3127802.510220468\n",
      "Loss:  5055783.570047498\n",
      "Loss:  14749365.084583282\n",
      "Loss:  55755593.83332682\n",
      "Loss:  255439444.78483963\n",
      "Loss:  1442752648.284645\n",
      "Loss:  3370642.7976415753\n",
      "Loss:  5522654.340210795\n",
      "Loss:  12109559.812122345\n",
      "Loss:  43172793.819886565\n",
      "Loss:  171011545.49243164\n",
      "Loss:  778068465.1820507\n",
      "Loss:  3623871.8024783134\n",
      "Loss:  5536271.898121178\n",
      "Loss:  10297431.242254496\n",
      "Loss:  38356832.436071396\n",
      "Loss:  122928942.88602734\n",
      "Loss:  498131059.8664808\n",
      "Loss:  3824886.0892568827\n",
      "Loss:  5502354.728514433\n",
      "Loss:  10365509.697120786\n",
      "Loss:  30853196.225292206\n",
      "Loss:  92170912.75437546\n",
      "Loss:  372322044.17108536\n",
      "Loss:  4017076.981901884\n",
      "Loss:  5512270.747107744\n",
      "Loss:  10506858.259178162\n",
      "Loss:  23796595.341703415\n",
      "Loss:  84453544.1668706\n",
      "Loss:  256387807.50576377\n",
      "Min Losses:  1782778.6450783014\n",
      "RMSE:  1335.2073416059027\n",
      "Best Degree:  1\n",
      "Best Last N:  5\n",
      "Test loss: 0.0\n",
      "avg ESOD: 5561614.142973055\n",
      "Time:  92.17417812347412\n"
     ]
    }
   ],
   "source": [
    "from sklearn.linear_model import LinearRegression\n",
    "from sklearn.preprocessing import PolynomialFeatures\n",
    "\n",
    "# epochs = len(X_test)\n",
    "epochs = 1000\n",
    "\n",
    "\n",
    "num_batches = len(X_test)\n",
    "print(num_batches)\n",
    "total_loss = 0\n",
    "esod = 0\n",
    "\n",
    "input_size = 5 \n",
    "\n",
    "# array to store the loss values for each hyperparameter combination\n",
    "losses = []\n",
    "min_loss = 99999999999\n",
    "\n",
    "# hyperparameters to try for higher order regression\n",
    "# learning_rates = [0.001, 0.01, 0.1]\n",
    "degrees = [1, 2, 3, 4, 5, 6]\n",
    "last_n_steps = [5, 10, 15, 20, 25, 30, 35, 40, 45, 50]\n",
    "\n",
    "\n",
    "start = time.time()\n",
    "\n",
    "\n",
    "for last_n in last_n_steps:\n",
    "        \n",
    "    for degree in degrees:\n",
    "        # degree = 1\n",
    "        # last_n = 5\n",
    "\n",
    "    \n",
    "        for i in range(0,epochs):\n",
    "                X = X_test[i]\n",
    "                y = y_test[i]\n",
    "\n",
    "                last = X[-last_n:] \n",
    "                input_size = last_n\n",
    "                \n",
    "                # prediction_full = last.repeat(1,pred_horizon)\n",
    "                \n",
    "                # reg = LinearRegression().fit(np.arange(0,input_size,1).reshape(input_size,1), last)\n",
    "                \n",
    "                \n",
    "                # m, c = np.linalg.lstsq(range(0,5), last)\n",
    "                # preds = m * np.linspace(6, 6+12, 1) + c\n",
    "\n",
    "                # preds = reg.predict(np.arange(input_size,input_size+pred_horizon,1).reshape(pred_horizon,1))\n",
    "\n",
    "                # Polynomial Regression\n",
    "                poly = PolynomialFeatures(degree=degree)\n",
    "                X_poly = poly.fit_transform(np.arange(0,input_size,1).reshape(input_size,1))\n",
    "                poly.fit(X_poly, last)\n",
    "                lin2 = LinearRegression()\n",
    "                lin2.fit(X_poly, last)\n",
    "                preds = lin2.predict(poly.fit_transform(np.arange(input_size,input_size+pred_horizon,1).reshape(pred_horizon,1)))\n",
    "\n",
    "                #MSE\n",
    "                prediction_full = torch.Tensor(preds.squeeze())\n",
    "                y_t = torch.Tensor(y)\n",
    "                loss = loss_func(prediction_full.squeeze(), y_t).item()\n",
    "                total_loss += loss\n",
    "\n",
    "                #ESOD\n",
    "                esod_pred = 0\n",
    "                esod_y = 0\n",
    "                preds2 = preds.squeeze()\n",
    "                for j in range(2, len(preds2)):\n",
    "                    esod_pred += math.pow((preds2[j] - 2*preds2[j-1] + preds2[j-2]), 2)\n",
    "                    esod_y += math.pow((y[j] - 2*y[j-1] + y[j-2]), 2)\n",
    "                if (esod_y != 0):\n",
    "                    esod += esod_pred / esod_y\n",
    "\n",
    "        # get the best hyperparameters for this epoch\n",
    "        losses.append(total_loss)\n",
    "        if (total_loss < min_loss):\n",
    "            min_loss = total_loss\n",
    "            best_degree = degree\n",
    "            best_last_n = last_n\n",
    "            best_reg = lin2\n",
    "    \n",
    "        print(\"Loss: \", total_loss)\n",
    "        total_loss = 0\n",
    "\n",
    "end = time.time()\n",
    "\n",
    "print(\"Min Losses: \", min(losses))\n",
    "print(\"RMSE: \", math.sqrt(min(losses)))\n",
    "print(\"Best Degree: \", best_degree)\n",
    "print(\"Best Last N: \", best_last_n)\n",
    "\n",
    "\n",
    "avg_loss = total_loss / epochs\n",
    "print(f\"Test loss: {avg_loss}\")\n",
    "print(\"avg ESOD:\", esod/num_batches)\n",
    "\n",
    "print(\"Time: \", end-start)\n",
    "\n",
    "\n",
    "\n"
   ]
  },
  {
   "cell_type": "code",
   "execution_count": 52,
   "metadata": {},
   "outputs": [
    {
     "data": {
      "image/png": "[encoded data removed]",
      "text/plain": [
       "<Figure size 640x480 with 1 Axes>"
      ]
     },
     "metadata": {},
     "output_type": "display_data"
    },
    {
     "name": "stdout",
     "output_type": "stream",
     "text": [
      "[[1.78277865e+06 1.52179339e+07 6.06714016e+08 8.79859381e+10\n",
      "  2.65209383e+12 1.84693853e+14]\n",
      " [2.03746676e+06 7.74426762e+06 6.89561958e+07 9.48687720e+08\n",
      "  2.88934730e+10 8.99872244e+11]\n",
      " [2.35429640e+06 6.14203850e+06 3.52322926e+07 2.53994679e+08\n",
      "  2.74441653e+09 4.07412682e+10]\n",
      " [2.69498156e+06 5.51892365e+06 2.18386180e+07 1.36311362e+08\n",
      "  8.48705997e+08 8.02403603e+09]\n",
      " [2.95152581e+06 5.02214288e+06 1.79530624e+07 7.60836860e+07\n",
      "  4.65277145e+08 2.51227702e+09]\n",
      " [3.12780251e+06 5.05578357e+06 1.47493651e+07 5.57555938e+07\n",
      "  2.55439445e+08 1.44275265e+09]\n",
      " [3.37064280e+06 5.52265434e+06 1.21095598e+07 4.31727938e+07\n",
      "  1.71011545e+08 7.78068465e+08]\n",
      " [3.62387180e+06 5.53627190e+06 1.02974312e+07 3.83568324e+07\n",
      "  1.22928943e+08 4.98131060e+08]\n",
      " [3.82488609e+06 5.50235473e+06 1.03655097e+07 3.08531962e+07\n",
      "  9.21709128e+07 3.72322044e+08]\n",
      " [4.01707698e+06 5.51227075e+06 1.05068583e+07 2.37965953e+07\n",
      "  8.44535442e+07 2.56387808e+08]]\n",
      "Losses:\n",
      "               1             2             3             4             5   \n",
      "5   1.782779e+06  1.521793e+07  6.067140e+08  8.798594e+10  2.652094e+12  \\\n",
      "10  2.037467e+06  7.744268e+06  6.895620e+07  9.486877e+08  2.889347e+10   \n",
      "15  2.354296e+06  6.142039e+06  3.523229e+07  2.539947e+08  2.744417e+09   \n",
      "20  2.694982e+06  5.518924e+06  2.183862e+07  1.363114e+08  8.487060e+08   \n",
      "25  2.951526e+06  5.022143e+06  1.795306e+07  7.608369e+07  4.652771e+08   \n",
      "30  3.127803e+06  5.055784e+06  1.474937e+07  5.575559e+07  2.554394e+08   \n",
      "35  3.370643e+06  5.522654e+06  1.210956e+07  4.317279e+07  1.710115e+08   \n",
      "40  3.623872e+06  5.536272e+06  1.029743e+07  3.835683e+07  1.229289e+08   \n",
      "45  3.824886e+06  5.502355e+06  1.036551e+07  3.085320e+07  9.217091e+07   \n",
      "50  4.017077e+06  5.512271e+06  1.050686e+07  2.379660e+07  8.445354e+07   \n",
      "\n",
      "               6  \n",
      "5   1.846939e+14  \n",
      "10  8.998722e+11  \n",
      "15  4.074127e+10  \n",
      "20  8.024036e+09  \n",
      "25  2.512277e+09  \n",
      "30  1.442753e+09  \n",
      "35  7.780685e+08  \n",
      "40  4.981311e+08  \n",
      "45  3.723220e+08  \n",
      "50  2.563878e+08  \n"
     ]
    },
    {
     "data": {
      "image/png": "[encoded data removed]",
      "text/plain": [
       "<Figure size 640x480 with 1 Axes>"
      ]
     },
     "metadata": {},
     "output_type": "display_data"
    }
   ],
   "source": [
    "# Print RMSE/epoch for each hyperparameter \n",
    "print(\"RMSE: \", math.sqrt(min(losses)))\n",
    "\n",
    "\n",
    "\n",
    "# Plotting an example of the best hyperparameter combination\n",
    "X = X_test[0]\n",
    "y = y_test[0]\n",
    "\n",
    "degree = best_degree\n",
    "last_n = best_last_n\n",
    "\n",
    "last = X[-last_n:]\n",
    "input_size = last_n\n",
    "\n",
    "reg = LinearRegression().fit(np.arange(0,input_size,1).reshape(input_size,1), last)\n",
    "preds = reg.predict(np.arange(input_size,input_size+pred_horizon,1).reshape(pred_horizon,1))\n",
    "\n",
    "plt.plot(np.arange(0,input_size,1), last, label=\"Input\")\n",
    "plt.plot(np.arange(input_size,input_size+pred_horizon,1), preds, label=\"Prediction\")\n",
    "plt.plot(np.arange(input_size,input_size+pred_horizon,1), y, label=\"Ground Truth\")\n",
    "plt.legend()\n",
    "plt.show()\n",
    "\n",
    "\n",
    "# convert loss array to heatmap\n",
    "losses = np.array(losses)\n",
    "# degrees is in the inner loop and last_n_steps is in the outer loop\n",
    "# so we need to reshape the array to match the order of the loops\n",
    "losses = losses.reshape(len(last_n_steps), len(degrees))\n",
    "print(losses)\n",
    "\n",
    "# # normalize the losses and remove outliers\n",
    "# log scaling\n",
    "log_losses = np.log(losses)\n",
    "# print in df form\n",
    "print(\"Losses:\")\n",
    "import pandas as pd\n",
    "print(pd.DataFrame(losses, index=last_n_steps, columns=degrees))\n",
    "\n",
    "\n",
    "# set axis labels\n",
    "plt.xlabel('Degree')\n",
    "plt.ylabel('Last N Steps')\n",
    "# set axis\n",
    "plt.xticks(np.arange(len(degrees)), degrees)\n",
    "plt.yticks(np.arange(len(last_n_steps)), last_n_steps)\n",
    "\n",
    "# plot the heatmap\n",
    "plt.imshow(log_losses, cmap='hot', interpolation='nearest')\n",
    "plt.show()\n",
    "\n",
    "\n",
    "# plot the best regression line best_reg on the scatter plot\n",
    "# draw scatter plot of all the points\n",
    "# plt.scatter(np.arange(0,input_size,1), last, label=\"Input\")\n",
    "# # draw the best regression line\n",
    "# plt.plot(np.arange(0,input_size,1), best_reg.predict(poly.fit_transform(np.arange(0,input_size,1).reshape(input_size,1))), label=\"Best Regression Line\")\n",
    "# plt.legend()\n",
    "\n",
    "# plt.show()\n"
   ]
  },
  {
   "attachments": {},
   "cell_type": "markdown",
   "metadata": {},
   "source": [
    "# ARIMA Model"
   ]
  },
  {
   "cell_type": "code",
   "execution_count": null,
   "metadata": {},
   "outputs": [],
   "source": [
    "# arima imports\n",
    "import pmdarima as pm\n",
    "from pmdarima import model_selection, pipeline ,arima, metrics\n",
    "from pmdarima import preprocessing as ppc"
   ]
  },
  {
   "cell_type": "code",
   "execution_count": 68,
   "metadata": {},
   "outputs": [],
   "source": [
    "# import pandas as pd\n",
    "# from statsmodels.tsa.arima.model import ARIMA\n",
    "# from sklearn.metrics import mean_squared_error\n",
    "\n",
    "# # Assuming X_train is a 2D array containing multiple time segments from many patients\n",
    "# # X_train should be in the shape (n_samples, n_features)\n",
    "\n",
    "# # Split the data into training and test sets\n",
    "# train_data = X_train[:-12]\n",
    "# test_data = X_train[-12:]\n",
    "\n",
    "# # Determine the appropriate order of differencing, autoregression, and moving average terms\n",
    "# d = 1\n",
    "# p = 2\n",
    "# q = 1\n",
    "\n",
    "# # Create an instance of the ARIMA model\n",
    "# model = ARIMA(train_data, order=(p, d, q))\n",
    "\n",
    "# # Fit the model to the training data\n",
    "# model_fit = model.fit()\n",
    "\n",
    "# # Generate forecasts for the test data\n",
    "# forecast = model_fit.forecast(steps=12)[0]\n",
    "\n",
    "# # Evaluate the accuracy of the model\n",
    "# mse = mean_squared_error(test_data, forecast)\n",
    "# print('Mean squared error:', mse)\n"
   ]
  },
  {
   "cell_type": "code",
   "execution_count": null,
   "metadata": {},
   "outputs": [],
   "source": [
    "# plot arima preds\n",
    "plt.plot(np.arange(0,pred_horizon,1), arima_preds, label=\"Prediction\")\n",
    "plt.plot(np.arange(0,pred_horizon,1), y_test[0], label=\"Ground Truth\")  \n",
    "plt.legend()\n",
    "plt.show()\n",
    "\n",
    "# print arima score\n",
    "print(\"ARIMA Score: \", arima_score)\n"
   ]
  },
  {
   "cell_type": "code",
   "execution_count": 54,
   "metadata": {},
   "outputs": [],
   "source": [
    "import pandas as pd\n",
    "import numpy as np\n",
    "import matplotlib.pyplot as plt\n",
    "from statsmodels.tsa.arima.model import ARIMA"
   ]
  },
  {
   "cell_type": "code",
   "execution_count": 73,
   "metadata": {},
   "outputs": [
    {
     "data": {
      "image/png": "[encoded data removed]",
      "text/plain": [
       "<Figure size 640x480 with 1 Axes>"
      ]
     },
     "metadata": {},
     "output_type": "display_data"
    }
   ],
   "source": [
    "# Create ARIMA model\n",
    "data = X_train[0]\n",
    "\n",
    "# Create ARIMA model\n",
    "model = ARIMA(data, order=(2,1,0)) # ARIMA(2,1,0) model\n",
    "model_fit = model.fit()\n",
    "\n",
    "# Plot forecasted values\n",
    "fig, ax = plt.subplots()\n",
    "ax.plot(data, label='Observations')\n",
    "ax.plot(model_fit.predict(start=11*5, end=12*5), label='Predictions')\n",
    "ax.legend()\n",
    "plt.show()\n",
    "\n",
    "\n"
   ]
  }
 ],
 "metadata": {
  "kernelspec": {
   "display_name": "Python 3 (ipykernel)",
   "language": "python",
   "name": "python3"
  },
  "language_info": {
   "codemirror_mode": {
    "name": "ipython",
    "version": 3
   },
   "file_extension": ".py",
   "mimetype": "text/x-python",
   "name": "python",
   "nbconvert_exporter": "python",
   "pygments_lexer": "ipython3",
   "version": "3.9.13"
  }
 },
 "nbformat": 4,
 "nbformat_minor": 4
}
