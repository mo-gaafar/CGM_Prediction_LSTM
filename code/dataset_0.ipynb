{
 "cells": [
  {
   "cell_type": "code",
   "execution_count": 1,
   "metadata": {
    "collapsed": false,
    "pycharm": {
     "name": "#%%\n"
    }
   },
   "outputs": [],
   "source": [
    "import pandas as pd\n",
    "import numpy as np\n",
    "# import matplotlib as mpl\n",
    "import matplotlib.pyplot as plt\n",
    "import IPython\n",
    "from IPython.display import display\n",
    "#import seaborn as sns\n",
    "\n",
    "import preprocessing\n",
    "\n",
    "seed = 1289719\n"
   ]
  },
  {
   "cell_type": "code",
   "execution_count": 2,
   "metadata": {
    "collapsed": false,
    "pycharm": {
     "name": "#%%\n"
    }
   },
   "outputs": [
    {
     "data": {
      "text/plain": [
       "<module 'preprocessing' from 'd:\\\\senior 1\\\\spring\\\\machine learning\\\\CGM_Prediction_LSTM\\\\code\\\\preprocessing.py'>"
      ]
     },
     "execution_count": 2,
     "metadata": {},
     "output_type": "execute_result"
    }
   ],
   "source": [
    "import importlib\n",
    "importlib.reload(preprocessing)"
   ]
  },
  {
   "attachments": {},
   "cell_type": "markdown",
   "metadata": {},
   "source": [
    "## Create Train and Test Sets"
   ]
  },
  {
   "cell_type": "code",
   "execution_count": 3,
   "metadata": {},
   "outputs": [],
   "source": [
    "series_min_len = 144 #12hrs\n",
    "pred_horizon = 12 # 1hr\n",
    "input_size = series_min_len - pred_horizon"
   ]
  },
  {
   "cell_type": "code",
   "execution_count": 5,
   "metadata": {
    "pycharm": {
     "name": "#%%\n"
    }
   },
   "outputs": [
    {
     "ename": "FileNotFoundError",
     "evalue": "[Errno 2] No such file or directory: 'timeseries_all-patients_step-1_len-6391075.pkl'",
     "output_type": "error",
     "traceback": [
      "\u001b[1;31m---------------------------------------------------------------------------\u001b[0m",
      "\u001b[1;31mFileNotFoundError\u001b[0m                         Traceback (most recent call last)",
      "\u001b[1;32md:\\senior 1\\spring\\machine learning\\CGM_Prediction_LSTM\\code\\dataset_0.ipynb Cell 5\u001b[0m in \u001b[0;36m3\n\u001b[0;32m      <a href='vscode-notebook-cell:/d%3A/senior%201/spring/machine%20learning/CGM_Prediction_LSTM/code/dataset_0.ipynb#W4sZmlsZQ%3D%3D?line=0'>1</a>\u001b[0m \u001b[39m#load\u001b[39;00m\n\u001b[0;32m      <a href='vscode-notebook-cell:/d%3A/senior%201/spring/machine%20learning/CGM_Prediction_LSTM/code/dataset_0.ipynb#W4sZmlsZQ%3D%3D?line=1'>2</a>\u001b[0m \u001b[39mimport\u001b[39;00m \u001b[39mpickle\u001b[39;00m\n\u001b[1;32m----> <a href='vscode-notebook-cell:/d%3A/senior%201/spring/machine%20learning/CGM_Prediction_LSTM/code/dataset_0.ipynb#W4sZmlsZQ%3D%3D?line=2'>3</a>\u001b[0m [X_train, X_test, y_train, y_test] \u001b[39m=\u001b[39m pickle\u001b[39m.\u001b[39mload(\u001b[39mopen\u001b[39;49m(\u001b[39m'\u001b[39;49m\u001b[39mtimeseries_all-patients_step-1_len-6391075.pkl\u001b[39;49m\u001b[39m'\u001b[39;49m, \u001b[39m'\u001b[39;49m\u001b[39mrb\u001b[39;49m\u001b[39m'\u001b[39;49m))\n\u001b[0;32m      <a href='vscode-notebook-cell:/d%3A/senior%201/spring/machine%20learning/CGM_Prediction_LSTM/code/dataset_0.ipynb#W4sZmlsZQ%3D%3D?line=3'>4</a>\u001b[0m \u001b[39mprint\u001b[39m(\u001b[39mlen\u001b[39m(X_train)\u001b[39m+\u001b[39m\u001b[39mlen\u001b[39m(X_test), \u001b[39mlen\u001b[39m(X_train), \u001b[39mlen\u001b[39m(X_test) )\n\u001b[0;32m      <a href='vscode-notebook-cell:/d%3A/senior%201/spring/machine%20learning/CGM_Prediction_LSTM/code/dataset_0.ipynb#W4sZmlsZQ%3D%3D?line=4'>5</a>\u001b[0m \u001b[39mprint\u001b[39m(\u001b[39mlen\u001b[39m(y_train)\u001b[39m+\u001b[39m\u001b[39mlen\u001b[39m(y_test), \u001b[39mlen\u001b[39m(y_train), \u001b[39mlen\u001b[39m(y_test))\n",
      "\u001b[1;31mFileNotFoundError\u001b[0m: [Errno 2] No such file or directory: 'timeseries_all-patients_step-1_len-6391075.pkl'"
     ]
    }
   ],
   "source": [
    "#load\n",
    "import pickle\n",
    "[X_train, X_test, y_train, y_test] = pickle.load(open('timeseries_all-patients_step-1_len-6391075.pkl', 'rb'))\n",
    "print(len(X_train)+len(X_test), len(X_train), len(X_test) )\n",
    "print(len(y_train)+len(y_test), len(y_train), len(y_test))\n"
   ]
  },
  {
   "attachments": {},
   "cell_type": "markdown",
   "metadata": {},
   "source": [
    "#### All Patients - CGM only"
   ]
  },
  {
   "cell_type": "code",
   "execution_count": 6,
   "metadata": {
    "pycharm": {
     "name": "#%%\n"
    }
   },
   "outputs": [],
   "source": [
    "num_groups = 1\n",
    "series_min_len = 144 #12-36hrs\n",
    "df_pt_groups_cols=[\"HbA1c\", \"BMI\"]\n",
    "#df_pt_groups_cols = [\"BMI\", \"Age\"]\n",
    "\n",
    "df_cgm, df_pt_all = preprocessing.get_df_all('Data-CITY', num_groups, df_pt_groups_cols)\n",
    "#PtID, HbA1c, Weight, Height, PEHeartRt, PEAbnormal, Sex, Black, White, Asian, Mixed, Uknown, Native, EducationLevel, AnnualIncome, BMI, Group"
   ]
  },
  {
   "cell_type": "code",
   "execution_count": null,
   "metadata": {
    "pycharm": {
     "name": "#%%\n"
    }
   },
   "outputs": [
    {
     "ename": "NameError",
     "evalue": "name 'df_pt_all' is not defined",
     "output_type": "error",
     "traceback": [
      "\u001b[1;31m---------------------------------------------------------------------------\u001b[0m",
      "\u001b[1;31mNameError\u001b[0m                                 Traceback (most recent call last)",
      "\u001b[1;32m~\\AppData\\Local\\Temp/ipykernel_36640/1977665272.py\u001b[0m in \u001b[0;36m<module>\u001b[1;34m\u001b[0m\n\u001b[1;32m----> 1\u001b[1;33m \u001b[0mgroup_ids\u001b[0m \u001b[1;33m=\u001b[0m \u001b[0mdf_pt_all\u001b[0m\u001b[1;33m.\u001b[0m\u001b[0mindex\u001b[0m\u001b[1;33m\u001b[0m\u001b[1;33m\u001b[0m\u001b[0m\n\u001b[0m\u001b[0;32m      2\u001b[0m \u001b[0mseries\u001b[0m \u001b[1;33m=\u001b[0m \u001b[0mpreprocessing\u001b[0m\u001b[1;33m.\u001b[0m\u001b[0mcreate_time_series\u001b[0m\u001b[1;33m(\u001b[0m\u001b[0mgroup_ids\u001b[0m\u001b[1;33m,\u001b[0m \u001b[0mdf_cgm\u001b[0m\u001b[1;33m,\u001b[0m \u001b[0mseries_min_len\u001b[0m\u001b[1;33m)\u001b[0m\u001b[1;33m\u001b[0m\u001b[1;33m\u001b[0m\u001b[0m\n\u001b[0;32m      3\u001b[0m \u001b[0mseries\u001b[0m \u001b[1;33m=\u001b[0m \u001b[0mnp\u001b[0m\u001b[1;33m.\u001b[0m\u001b[0masarray\u001b[0m\u001b[1;33m(\u001b[0m\u001b[0mseries\u001b[0m\u001b[1;33m)\u001b[0m\u001b[1;33m\u001b[0m\u001b[1;33m\u001b[0m\u001b[0m\n",
      "\u001b[1;31mNameError\u001b[0m: name 'df_pt_all' is not defined"
     ]
    }
   ],
   "source": [
    "group_ids = df_pt_all.index\n",
    "series = preprocessing.create_time_series(group_ids, df_cgm, series_min_len)\n",
    "series = np.asarray(series)"
   ]
  },
  {
   "cell_type": "code",
   "execution_count": null,
   "metadata": {
    "collapsed": false,
    "pycharm": {
     "name": "#%%\n"
    }
   },
   "outputs": [
    {
     "name": "stdout",
     "output_type": "stream",
     "text": [
      "(49769, 144)\n",
      "(39815, 144)\n",
      "(9954, 144)\n"
     ]
    }
   ],
   "source": [
    "from sklearn.model_selection import train_test_split\n",
    "series_train, series_test = train_test_split(series, test_size=0.2, random_state=seed)\n",
    "print(series.shape)\n",
    "print(series_train.shape)\n",
    "print(series_test.shape)"
   ]
  },
  {
   "cell_type": "code",
   "execution_count": null,
   "metadata": {
    "collapsed": false,
    "pycharm": {
     "name": "#%%\n"
    }
   },
   "outputs": [
    {
     "name": "stdout",
     "output_type": "stream",
     "text": [
      "(49769, 144)\n"
     ]
    }
   ],
   "source": [
    "print(series.shape)"
   ]
  },
  {
   "cell_type": "code",
   "execution_count": null,
   "metadata": {
    "collapsed": false,
    "pycharm": {
     "name": "#%%\n"
    }
   },
   "outputs": [],
   "source": [
    "X_train = series_train[:, 0:input_size]\n",
    "y_train = series_train[:, 1:input_size+1]\n",
    "\n",
    "X_test = series_test[:, 0:input_size]\n",
    "y_test = series_test[:, input_size:series_min_len+1]\n",
    "\n",
    "X_train = np.reshape(X_train, (X_train.shape[0], X_train.shape[1], 1))\n",
    "y_train = np.reshape(y_train, (y_train.shape[0], y_train.shape[1], 1))\n",
    "X_test = np.reshape(X_test, (X_test.shape[0], X_test.shape[1], 1))"
   ]
  },
  {
   "cell_type": "code",
   "execution_count": null,
   "metadata": {},
   "outputs": [],
   "source": [
    "# from sklearn.model_selection import train_test_split\n",
    "#\n",
    "# X_train, X_test, y_train, y_test = train_test_split(X, y, test_size=0.2, random_state=seed)\n",
    "#\n",
    "# print(len(X), len(X_train), len(X_test))\n",
    "# print(len(y), len(y_train), len(y_test))"
   ]
  },
  {
   "cell_type": "code",
   "execution_count": null,
   "metadata": {
    "pycharm": {
     "name": "#%%\n"
    }
   },
   "outputs": [],
   "source": [
    "#save\n",
    "import pickle\n",
    "pickle.dump([X_train, X_test, y_train, y_test], open('timeseries_all-patients_step-1_len-6391075.pkl', 'wb'))"
   ]
  },
  {
   "attachments": {},
   "cell_type": "markdown",
   "metadata": {
    "collapsed": false
   },
   "source": [
    "#### X Clustered Patients - CGM only"
   ]
  },
  {
   "cell_type": "code",
   "execution_count": null,
   "metadata": {
    "collapsed": false,
    "pycharm": {
     "name": "#%%\n"
    }
   },
   "outputs": [],
   "source": [
    "num_groups = 3\n",
    "series_min_len = 144 #12-36hrs\n",
    "df_pt_groups_cols=[\"HbA1c\", \"AnnualIncome\"]\n",
    "# df_pt_groups_cols = [\"BMI\", \"Age\"]\n",
    "\n",
    "df_cgm, df_pt_all_groups = preprocessing.get_df_all('Data-CITY', num_groups, df_pt_groups_cols)\n",
    "#PtID, HbA1c, Weight, Height, PEHeartRt, PEAbnormal, Sex, Black, White, Asian, Mixed, Uknown, Native, EducationLevel, AnnualIncome, BMI, Group"
   ]
  },
  {
   "cell_type": "code",
   "execution_count": null,
   "metadata": {
    "collapsed": false,
    "pycharm": {
     "name": "#%%\n"
    }
   },
   "outputs": [
    {
     "name": "stdout",
     "output_type": "stream",
     "text": [
      "GROUP  0\n",
      "(3296488, 144)\n",
      "(2637190, 144)\n",
      "(659298, 144)\n",
      "GROUP  1\n",
      "(1203470, 144)\n",
      "(962776, 144)\n",
      "(240694, 144)\n",
      "GROUP  2\n",
      "(1891117, 144)\n",
      "(1512893, 144)\n",
      "(378224, 144)\n"
     ]
    }
   ],
   "source": [
    "from sklearn.model_selection import train_test_split\n",
    "import pickle\n",
    "\n",
    "for i in range(0, num_groups):\n",
    "    print(\"GROUP \", i)\n",
    "    group_ids =  df_pt_all_groups.get_group(i).index\n",
    "    # print(group_ids)\n",
    "\n",
    "    #TODO: train_test split patients\n",
    "\n",
    "    series = preprocessing.create_time_series(group_ids, df_cgm, series_min_len)\n",
    "    series = np.asarray(series)\n",
    "\n",
    "    series_train, series_test = train_test_split(series, test_size=0.2, random_state=seed)\n",
    "    print(series.shape)\n",
    "    print(series_train.shape)\n",
    "    print(series_test.shape)\n",
    "\n",
    "    X_train = series_train[:, 0:input_size]\n",
    "    y_train = series_train[:, 1:input_size+1]\n",
    "\n",
    "    X_test = series_test[:, 0:input_size]\n",
    "    y_test = series_test[:, input_size:series_min_len+1]\n",
    "\n",
    "    X_train = np.reshape(X_train, (X_train.shape[0], X_train.shape[1], 1))\n",
    "    y_train = np.reshape(y_train, (y_train.shape[0], y_train.shape[1], 1))\n",
    "    X_test = np.reshape(X_test, (X_test.shape[0], X_test.shape[1], 1))\n",
    "\n",
    "    pickle.dump([X_train, X_test, y_train, y_test], open('timeseries_'+str(i)+'-patients_step-1_len-x.pkl', 'wb'))"
   ]
  }
 ],
 "metadata": {
  "kernelspec": {
   "display_name": "Python 3 (ipykernel)",
   "language": "python",
   "name": "python3"
  },
  "language_info": {
   "codemirror_mode": {
    "name": "ipython",
    "version": 3
   },
   "file_extension": ".py",
   "mimetype": "text/x-python",
   "name": "python",
   "nbconvert_exporter": "python",
   "pygments_lexer": "ipython3",
   "version": "3.10.9"
  }
 },
 "nbformat": 4,
 "nbformat_minor": 4
}
